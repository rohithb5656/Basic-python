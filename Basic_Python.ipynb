{
  "nbformat": 4,
  "nbformat_minor": 0,
  "metadata": {
    "colab": {
      "provenance": []
    },
    "kernelspec": {
      "name": "python3",
      "display_name": "Python 3"
    },
    "language_info": {
      "name": "python"
    }
  },
  "cells": [
    {
      "cell_type": "markdown",
      "source": [
        "Theory Questions\n",
        "\n",
        "\n",
        "\n"
      ],
      "metadata": {
        "id": "TI3ouPK1pFwz"
      }
    },
    {
      "cell_type": "markdown",
      "source": [],
      "metadata": {
        "id": "Bbsyh-hgrin0"
      }
    },
    {
      "cell_type": "markdown",
      "source": [
        "1:What is Python, and why is it popular.?\n",
        "\n",
        "Ans:-Python is a simple and easy-to-learn programming language used for web development, data science, automation, and more.\n",
        "\n",
        "why python is popular\n",
        "\n",
        "1:Easy to learn and use - clean and readable syntax\n",
        "\n",
        "2:puthon is versatile language - used for web developement, automation, data science,AI,machin learning and more\n",
        "\n",
        "3:Python has a large number of libraries more than we have 1,37000 libraries\n",
        "\n",
        "4:python is cross-platform - work on windows ,macos, and linux\n",
        "\n",
        "\n",
        "2:What is an interpreter in Python\n",
        "\n",
        "\n",
        "Ans:- interpreter is execute the code line by line at run time, or it transalate high-level code into machin code at run time\n",
        "\n",
        "3:What are pre-defined keywords in Python\n",
        "\n",
        "Ans: pre-defined keywords are reserved keyword and that have special word and keywords we cannot used as a variable\n",
        "\n",
        "\n",
        "4:Can keywords be used as variable names\n",
        "\n",
        "Ans: NO we cannot use keywords as a varibale name because of these are reserved keyowrds for specific function\n",
        "\n",
        "5:What is mutability in Python\n",
        "\n",
        "Ans: Mutability in python we can change the data or values after they created the data or values is called mutability\n",
        "\n",
        "6:Why are lists mutable, but tuples are immutable\n",
        "\n",
        "Ans:- why lists are mutable means we can change the data or values in lists which are created previously\n",
        "\n",
        "and tuples are immutable means we cannot chnage the data or values after created the so strings are immutable we cannot repelce the data or values\n",
        "\n",
        "7:What is the difference between “==” and “is” operators in Python\n",
        "\n",
        "Ans:- \"==\" this operator is used to check if the two values are equal or it compares the value\n",
        "      \"is\" this operator is used to check if the two variables are point to the same object in memory or compare the identites\n",
        "\n",
        "8:What are logical operators in Python\n",
        "\n",
        "Ans:- we have three main logical operators\n",
        "      'and'-returns true if both condition is true\n",
        "      'or'-reture true if at least one condtition is true\n",
        "      'not'-return true if the condtion is false\n",
        "\n",
        "9:What is type casting in Python\n",
        "\n",
        "Ans:- type castion python is converting the one data type to another data type is called type casting, like string to int or float into a string\n",
        "\n",
        "\n",
        "10:What is the difference between implicit and explicit type casting\n",
        "\n",
        "Ans:-Difference between implicit and explicit type casting:\n",
        "Implicit type casting is done automatically by Python.\n",
        "Explicit type casting is done manually by the programmer using functions like int(), float(), or str().\n",
        "\n",
        "11:What is the purpose of conditional statements in Python\n",
        "\n",
        "Ans:- Conditional statements in Python control the flow of a program by allowing it to execute different blocks of code based on whether a condition is true or false.\n",
        "\n",
        "\n",
        "12: How does the elif statement work\n",
        "\n",
        "Ans:-If the condition in the if statement is False, the program checks the condition in the elif block. You can have multiple elif statements to check different conditions.\n",
        "\n",
        "13:What is the difference between for and while loops\n",
        "\n",
        "Ans:-Difference between for and while loops in Python:\n",
        "\n",
        "for loop is used when you know the number of iterations in advance, or when iterating over a sequence like a list or range.\n",
        "\n",
        "while loop is used when you want to repeat an action as long as a condition is true.\n",
        "\n",
        "\n",
        "14:Describe a scenario where a while loop is more suitable than a for loop.\n",
        "\n",
        "Ans:A while loop is more suitable than a for loop in scenarios where you don’t know the number of iterations in advance, and you need to loop based on a condition that may change during execution.\n",
        "\n",
        "Example scenario:\n",
        "You want to keep asking a user for input until they provide a valid response (e.g., entering a correct password).\n",
        "\n",
        "\n",
        "\n",
        "\n"
      ],
      "metadata": {
        "id": "0Plp4ssapXig"
      }
    },
    {
      "cell_type": "markdown",
      "source": [
        "1:Write a Python program to print \"Hello, World!"
      ],
      "metadata": {
        "id": "0PD9ZojCzUq9"
      }
    },
    {
      "cell_type": "code",
      "execution_count": 1,
      "metadata": {
        "colab": {
          "base_uri": "https://localhost:8080/"
        },
        "id": "k-NxaaCTzKHt",
        "outputId": "4e855c43-391e-4171-8c02-a0be1918f8ff"
      },
      "outputs": [
        {
          "output_type": "stream",
          "name": "stdout",
          "text": [
            "Hello World!\n"
          ]
        }
      ],
      "source": [
        "print(\"Hello World!\")"
      ]
    },
    {
      "cell_type": "markdown",
      "source": [
        "2:Write a Python program that displays your name and age"
      ],
      "metadata": {
        "id": "_bEl3TYXzwAp"
      }
    },
    {
      "cell_type": "code",
      "source": [
        "name = \"Rohith B\"\n",
        "age = 27\n",
        "\n",
        "print(\"name:\",name)\n",
        "print(\"age:\",age)"
      ],
      "metadata": {
        "colab": {
          "base_uri": "https://localhost:8080/"
        },
        "id": "JFdnAXQDzgf5",
        "outputId": "87307c0d-c7a4-4e34-b99a-56f9121d606a"
      },
      "execution_count": 2,
      "outputs": [
        {
          "output_type": "stream",
          "name": "stdout",
          "text": [
            "name: Rohith B\n",
            "age: 27\n"
          ]
        }
      ]
    },
    {
      "cell_type": "markdown",
      "source": [
        "3:Write code to print all the pre-defined keywords in Python using the keyword library"
      ],
      "metadata": {
        "id": "3GyfdwYD02Xf"
      }
    },
    {
      "cell_type": "code",
      "source": [
        "help('keywords')"
      ],
      "metadata": {
        "colab": {
          "base_uri": "https://localhost:8080/"
        },
        "id": "00PxB2JY06zE",
        "outputId": "38c384c2-978f-4ead-f344-e05b9965222a"
      },
      "execution_count": 5,
      "outputs": [
        {
          "output_type": "stream",
          "name": "stdout",
          "text": [
            "\n",
            "Here is a list of the Python keywords.  Enter any keyword to get more help.\n",
            "\n",
            "False               class               from                or\n",
            "None                continue            global              pass\n",
            "True                def                 if                  raise\n",
            "and                 del                 import              return\n",
            "as                  elif                in                  try\n",
            "assert              else                is                  while\n",
            "async               except              lambda              with\n",
            "await               finally             nonlocal            yield\n",
            "break               for                 not                 \n",
            "\n"
          ]
        }
      ]
    },
    {
      "cell_type": "markdown",
      "source": [
        "4:Write a program that checks if a given word is a Python keyword."
      ],
      "metadata": {
        "id": "kM0P-VWC5QvB"
      }
    },
    {
      "cell_type": "code",
      "source": [
        "\n",
        "\n",
        "a = input(\"enter the value \")\n",
        "b = ['False','class','from','or','None','continue','global','pass','True','def','if','raise','and',\n",
        "     'del','import','return','as','elif','in','try','assert','else','is','while','async','except','lambda','with','await','finally'\n",
        "     'nonlocal','yield','break' ]\n",
        "\n",
        "if (a in b):{\n",
        "    print(\"this is a python keyword\")\n",
        "\n",
        "}\n",
        "else:\n",
        "  print(\"this is not a python key word\")\n",
        "\n",
        "\n"
      ],
      "metadata": {
        "colab": {
          "base_uri": "https://localhost:8080/"
        },
        "id": "XsG2kDBm5bCn",
        "outputId": "2dcfe61f-4841-423e-dd2a-c099a32b731e"
      },
      "execution_count": 18,
      "outputs": [
        {
          "output_type": "stream",
          "name": "stdout",
          "text": [
            "enter the value continue\n",
            "this is a python keyword\n"
          ]
        }
      ]
    },
    {
      "cell_type": "markdown",
      "source": [
        "5:Create a list and tuple in Python, and demonstrate how attempting to change an element works differently\n",
        "for each."
      ],
      "metadata": {
        "id": "dSJoCykGzuJX"
      }
    },
    {
      "cell_type": "code",
      "source": [
        "list=[1,2,4,6,'rohith','sachin']\n",
        "list[2]='darshan' # list is a mutuable we can edit the data or value ofter created the data\n",
        "print(\"modified list\",list)\n",
        "\n",
        "tupal_list=(1, 2, 3 , 4)\n",
        "# tupal_list[2]=4\n",
        "# print(\"modified tupal\", tupal_list) tupal is immutable."
      ],
      "metadata": {
        "colab": {
          "base_uri": "https://localhost:8080/"
        },
        "id": "-eowD1sj5Z8l",
        "outputId": "9a25ad46-2701-43ee-b647-f16fd90ac217"
      },
      "execution_count": 4,
      "outputs": [
        {
          "output_type": "stream",
          "name": "stdout",
          "text": [
            "modified list [1, 2, 'darshan', 6, 'rohith', 'sachin']\n"
          ]
        }
      ]
    },
    {
      "cell_type": "markdown",
      "source": [
        "6:Write a function to demonstrate the behavior of mutable and immutable arguments."
      ],
      "metadata": {
        "id": "HvYqyzvjSgM2"
      }
    },
    {
      "cell_type": "code",
      "source": [
        "#mutuable function\n",
        "\n",
        "list_mutuable=['rohith',5,8,10,'data analyst']\n",
        "\n",
        "list_mutuable[3]='pwskills'\n",
        "print(\"mutuable edited\",list_mutuable)"
      ],
      "metadata": {
        "colab": {
          "base_uri": "https://localhost:8080/"
        },
        "id": "NdhynenCl8mF",
        "outputId": "0436516e-913c-40db-b986-f9805f5dacda"
      },
      "execution_count": 5,
      "outputs": [
        {
          "output_type": "stream",
          "name": "stdout",
          "text": [
            "mutuable edited ['rohith', 5, 8, 'pwskills', 'data analyst']\n"
          ]
        }
      ]
    },
    {
      "cell_type": "code",
      "source": [
        "# immutable function\n",
        "immutable=('rohith','pwskill')\n",
        "# immutable[0]='sachin'\n",
        "# # print('immutable edite',immutable) tupal or immutable we caanot edit after changed the values or data"
      ],
      "metadata": {
        "id": "XkqxsXhzTR_j"
      },
      "execution_count": 7,
      "outputs": []
    },
    {
      "cell_type": "markdown",
      "source": [
        "7. Write a program that performs basic arithmetic operations on two user-input numbers."
      ],
      "metadata": {
        "id": "z6GG1zOpXixF"
      }
    },
    {
      "cell_type": "code",
      "source": [
        "user_one= int(input(\"Enter the first number: \"))\n",
        "user_two= int(input(\"Enter the second number: \"))\n",
        "\n",
        "print(\"Addition:\", user_one + user_two)\n",
        "print(\"substraction:\", user_one - user_two)\n",
        "print(\"multiplication:\", user_one * user_two)\n",
        "print(\"Division:\", user_one / user_two)"
      ],
      "metadata": {
        "colab": {
          "base_uri": "https://localhost:8080/"
        },
        "id": "qfjUXEV1W7uE",
        "outputId": "8912c978-5d97-47b6-86d7-93cd995f56e7"
      },
      "execution_count": 9,
      "outputs": [
        {
          "output_type": "stream",
          "name": "stdout",
          "text": [
            "Enter the first number: 20\n",
            "Enter the second number: 3\n",
            "Addition: 23\n",
            "substraction: 17\n",
            "multiplication: 60\n",
            "Division: 6.666666666666667\n"
          ]
        }
      ]
    },
    {
      "cell_type": "markdown",
      "source": [
        "8. Write a program to demonstrate the use of logical operators.\n"
      ],
      "metadata": {
        "id": "-MNDDFfIZul0"
      }
    },
    {
      "cell_type": "code",
      "source": [
        "a = 8\n",
        "b =4\n",
        "c = 5\n",
        "\n",
        "print((a>b) and (b>a))\n",
        "print((a<b) or (b<a))\n",
        "print(not (a<b))\n",
        ""
      ],
      "metadata": {
        "colab": {
          "base_uri": "https://localhost:8080/"
        },
        "id": "gSjiwSivZYWb",
        "outputId": "81936c4a-68c2-40fb-c284-4cccb6b96d16"
      },
      "execution_count": 23,
      "outputs": [
        {
          "output_type": "stream",
          "name": "stdout",
          "text": [
            "False\n",
            "True\n",
            "True\n"
          ]
        }
      ]
    },
    {
      "cell_type": "markdown",
      "source": [
        "9. Write a Python program to convert user input from string to integer, float, and boolean types."
      ],
      "metadata": {
        "id": "9AR1M3n4d0_7"
      }
    },
    {
      "cell_type": "code",
      "source": [
        "\n",
        "user = int(input(\"Enter the value: \"))\n",
        "user_one = str(input(\"Enter the name: \"))\n",
        "user_two = float(input(\"Enter the float value: \"))\n",
        "user_three = bool(input(\"Enter the boolean value (True/False): \"))\n",
        "\n",
        "\n",
        "print(\"Converted to integer:\", type(user))\n",
        "print(\"Converted to string:\", type(user_one))\n",
        "print(\"Converted to float:\", type(user_two))\n",
        "print(\"Converted to boolean:\", type(user_three))\n",
        "\n"
      ],
      "metadata": {
        "colab": {
          "base_uri": "https://localhost:8080/"
        },
        "id": "S4lu3ZKjax8V",
        "outputId": "841316e9-d4ce-491a-8a6b-0974d8bfbb12"
      },
      "execution_count": 38,
      "outputs": [
        {
          "output_type": "stream",
          "name": "stdout",
          "text": [
            "Enter the value: 88\n",
            "Enter the name: rohith\n",
            "Enter the float value: 25.33\n",
            "Enter the boolean value (True/False): 100\n",
            "Converted to integer: <class 'int'>\n",
            "Converted to string: <class 'str'>\n",
            "Converted to float: <class 'float'>\n",
            "Converted to boolean: <class 'bool'>\n"
          ]
        }
      ]
    },
    {
      "cell_type": "markdown",
      "source": [
        "10. Write code to demonstrate type casting with list elements.\n"
      ],
      "metadata": {
        "id": "JVT809-vjLo2"
      }
    },
    {
      "cell_type": "code",
      "source": [
        "list = ['1','rohith','5.3',True]\n",
        "\n",
        "convert_int = int(list[0])\n",
        "convert_flot = float(list[2])\n",
        "convert_bool = bool(list[3])\n",
        "# convert_str = bool(list[1]) #string cannot be convert to int and float when we have alpha character in string\n",
        "\n",
        "print(type(convert_int),type(convert_flot),type(convert_bool))\n",
        "# list"
      ],
      "metadata": {
        "colab": {
          "base_uri": "https://localhost:8080/"
        },
        "id": "AU_5s6_3fY2e",
        "outputId": "a87b6738-cc02-4252-8cb3-82fa50961b1b"
      },
      "execution_count": 65,
      "outputs": [
        {
          "output_type": "stream",
          "name": "stdout",
          "text": [
            "<class 'int'> <class 'float'> <class 'bool'>\n"
          ]
        }
      ]
    },
    {
      "cell_type": "markdown",
      "source": [
        "11. Write a program that checks if a number is positive, negative, or zero."
      ],
      "metadata": {
        "id": "Wa3wKPkQqCWT"
      }
    },
    {
      "cell_type": "code",
      "source": [
        "num = int(input(\"Enter the number: \"))\n",
        "\n",
        "if num>0:\n",
        "  print(\"The given number is Positive\")\n",
        "elif num<0:\n",
        "  print(\"The given number is Negative\")\n",
        "else:\n",
        "  print(\"The number is Zero\")"
      ],
      "metadata": {
        "colab": {
          "base_uri": "https://localhost:8080/"
        },
        "id": "MPk4gucaliMj",
        "outputId": "21e901d5-cc79-48aa-a097-b348c241c95b"
      },
      "execution_count": 68,
      "outputs": [
        {
          "output_type": "stream",
          "name": "stdout",
          "text": [
            "Enter the number: -10\n",
            "The given number is Negative\n"
          ]
        }
      ]
    },
    {
      "cell_type": "markdown",
      "source": [
        "12. Write a for loop to print numbers from 1 to 10."
      ],
      "metadata": {
        "id": "e-2Ja0MSrOsA"
      }
    },
    {
      "cell_type": "code",
      "source": [
        "n = 11\n",
        "i = 1\n",
        "while(i<n):\n",
        "  print(i)\n",
        "  i=i+1"
      ],
      "metadata": {
        "colab": {
          "base_uri": "https://localhost:8080/"
        },
        "id": "NnyI8CX8q5JN",
        "outputId": "37d556d5-2568-4688-a06a-56befb72cdc2"
      },
      "execution_count": 71,
      "outputs": [
        {
          "output_type": "stream",
          "name": "stdout",
          "text": [
            "1\n",
            "2\n",
            "3\n",
            "4\n",
            "5\n",
            "6\n",
            "7\n",
            "8\n",
            "9\n",
            "10\n"
          ]
        }
      ]
    },
    {
      "cell_type": "markdown",
      "source": [
        "13. Write a Python program to find the sum of all even numbers between 1 and 50."
      ],
      "metadata": {
        "id": "g7qkisfhryC4"
      }
    },
    {
      "cell_type": "code",
      "source": [
        " total = 0\n",
        "\n",
        " for i in range(1,51):\n",
        "  if i % 2 == 0:\n",
        "    total+=i\n",
        "print(\"the sum of all even number between 1 and 51:\",total)"
      ],
      "metadata": {
        "colab": {
          "base_uri": "https://localhost:8080/"
        },
        "id": "HYfsOnawrhg0",
        "outputId": "05f4ba1a-9737-4740-e9df-81ad2379c309"
      },
      "execution_count": 79,
      "outputs": [
        {
          "output_type": "stream",
          "name": "stdout",
          "text": [
            "the sum of all even number between 1 and 51: 650\n"
          ]
        }
      ]
    },
    {
      "cell_type": "markdown",
      "source": [
        "14. Write a program to reverse a string using a while loop.\n"
      ],
      "metadata": {
        "id": "-VLdyBRUuddr"
      }
    },
    {
      "cell_type": "code",
      "source": [
        "name = \"Rohith\"\n",
        "reverse_name = \"\"\n",
        "i = len(name)-1\n",
        "while i >=0:\n",
        "  reverse_name += name[i]\n",
        "  i -= 1\n",
        "print(\"reverse name is:\", reverse_name)\n"
      ],
      "metadata": {
        "colab": {
          "base_uri": "https://localhost:8080/"
        },
        "id": "QidIkA0wsfFi",
        "outputId": "ef70a312-83a3-4135-82a8-7eb6dfca47cb"
      },
      "execution_count": 82,
      "outputs": [
        {
          "output_type": "stream",
          "name": "stdout",
          "text": [
            "reverse name is: htihoR\n"
          ]
        }
      ]
    },
    {
      "cell_type": "markdown",
      "source": [
        "15. Write a Python program to calculate the factorial of a number provided by the user using a while loop."
      ],
      "metadata": {
        "id": "8-DntfQDyjhO"
      }
    },
    {
      "cell_type": "code",
      "source": [
        "num = int(input(\"Enther a number \"))\n",
        "\n",
        "factorial = 1\n",
        "i = 1\n",
        "\n",
        "while i <= num:\n",
        "  factorial  *= i\n",
        "  i += 1\n",
        "print(\"the factorial\", num ,\"is\",factorial)"
      ],
      "metadata": {
        "colab": {
          "base_uri": "https://localhost:8080/"
        },
        "id": "lQjqKXNxxWaX",
        "outputId": "166b012c-6aaa-4296-cd9f-8f7a30988e24"
      },
      "execution_count": 91,
      "outputs": [
        {
          "output_type": "stream",
          "name": "stdout",
          "text": [
            "Enther a number 8\n",
            "the factorial 8 is 40320\n"
          ]
        }
      ]
    },
    {
      "cell_type": "code",
      "source": [],
      "metadata": {
        "id": "48voZNbZzHPx"
      },
      "execution_count": 91,
      "outputs": []
    }
  ]
}